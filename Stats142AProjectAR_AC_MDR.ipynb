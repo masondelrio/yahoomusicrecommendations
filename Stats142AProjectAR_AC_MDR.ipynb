{
 "cells": [
  {
   "cell_type": "code",
   "execution_count": 1,
   "id": "736e03de",
   "metadata": {},
   "outputs": [
    {
     "name": "stderr",
     "output_type": "stream",
     "text": [
      "/opt/anaconda3/lib/python3.7/site-packages/sklearn/linear_model/least_angle.py:30: DeprecationWarning: `np.float` is a deprecated alias for the builtin `float`. To silence this warning, use `float` by itself. Doing this will not modify any behavior and is safe. If you specifically wanted the numpy scalar type, use `np.float64` here.\n",
      "Deprecated in NumPy 1.20; for more details and guidance: https://numpy.org/devdocs/release/1.20.0-notes.html#deprecations\n",
      "  method='lar', copy_X=True, eps=np.finfo(np.float).eps,\n",
      "/opt/anaconda3/lib/python3.7/site-packages/sklearn/linear_model/least_angle.py:167: DeprecationWarning: `np.float` is a deprecated alias for the builtin `float`. To silence this warning, use `float` by itself. Doing this will not modify any behavior and is safe. If you specifically wanted the numpy scalar type, use `np.float64` here.\n",
      "Deprecated in NumPy 1.20; for more details and guidance: https://numpy.org/devdocs/release/1.20.0-notes.html#deprecations\n",
      "  method='lar', copy_X=True, eps=np.finfo(np.float).eps,\n",
      "/opt/anaconda3/lib/python3.7/site-packages/sklearn/linear_model/least_angle.py:284: DeprecationWarning: `np.float` is a deprecated alias for the builtin `float`. To silence this warning, use `float` by itself. Doing this will not modify any behavior and is safe. If you specifically wanted the numpy scalar type, use `np.float64` here.\n",
      "Deprecated in NumPy 1.20; for more details and guidance: https://numpy.org/devdocs/release/1.20.0-notes.html#deprecations\n",
      "  eps=np.finfo(np.float).eps, copy_Gram=True, verbose=0,\n",
      "/opt/anaconda3/lib/python3.7/site-packages/sklearn/linear_model/least_angle.py:862: DeprecationWarning: `np.float` is a deprecated alias for the builtin `float`. To silence this warning, use `float` by itself. Doing this will not modify any behavior and is safe. If you specifically wanted the numpy scalar type, use `np.float64` here.\n",
      "Deprecated in NumPy 1.20; for more details and guidance: https://numpy.org/devdocs/release/1.20.0-notes.html#deprecations\n",
      "  eps=np.finfo(np.float).eps, copy_X=True, fit_path=True,\n",
      "/opt/anaconda3/lib/python3.7/site-packages/sklearn/linear_model/least_angle.py:1101: DeprecationWarning: `np.float` is a deprecated alias for the builtin `float`. To silence this warning, use `float` by itself. Doing this will not modify any behavior and is safe. If you specifically wanted the numpy scalar type, use `np.float64` here.\n",
      "Deprecated in NumPy 1.20; for more details and guidance: https://numpy.org/devdocs/release/1.20.0-notes.html#deprecations\n",
      "  eps=np.finfo(np.float).eps, copy_X=True, fit_path=True,\n",
      "/opt/anaconda3/lib/python3.7/site-packages/sklearn/linear_model/least_angle.py:1127: DeprecationWarning: `np.float` is a deprecated alias for the builtin `float`. To silence this warning, use `float` by itself. Doing this will not modify any behavior and is safe. If you specifically wanted the numpy scalar type, use `np.float64` here.\n",
      "Deprecated in NumPy 1.20; for more details and guidance: https://numpy.org/devdocs/release/1.20.0-notes.html#deprecations\n",
      "  eps=np.finfo(np.float).eps, positive=False):\n",
      "/opt/anaconda3/lib/python3.7/site-packages/sklearn/linear_model/least_angle.py:1362: DeprecationWarning: `np.float` is a deprecated alias for the builtin `float`. To silence this warning, use `float` by itself. Doing this will not modify any behavior and is safe. If you specifically wanted the numpy scalar type, use `np.float64` here.\n",
      "Deprecated in NumPy 1.20; for more details and guidance: https://numpy.org/devdocs/release/1.20.0-notes.html#deprecations\n",
      "  max_n_alphas=1000, n_jobs=None, eps=np.finfo(np.float).eps,\n",
      "/opt/anaconda3/lib/python3.7/site-packages/sklearn/linear_model/least_angle.py:1602: DeprecationWarning: `np.float` is a deprecated alias for the builtin `float`. To silence this warning, use `float` by itself. Doing this will not modify any behavior and is safe. If you specifically wanted the numpy scalar type, use `np.float64` here.\n",
      "Deprecated in NumPy 1.20; for more details and guidance: https://numpy.org/devdocs/release/1.20.0-notes.html#deprecations\n",
      "  max_n_alphas=1000, n_jobs=None, eps=np.finfo(np.float).eps,\n",
      "/opt/anaconda3/lib/python3.7/site-packages/sklearn/linear_model/least_angle.py:1738: DeprecationWarning: `np.float` is a deprecated alias for the builtin `float`. To silence this warning, use `float` by itself. Doing this will not modify any behavior and is safe. If you specifically wanted the numpy scalar type, use `np.float64` here.\n",
      "Deprecated in NumPy 1.20; for more details and guidance: https://numpy.org/devdocs/release/1.20.0-notes.html#deprecations\n",
      "  eps=np.finfo(np.float).eps, copy_X=True, positive=False):\n",
      "/opt/anaconda3/lib/python3.7/site-packages/sklearn/decomposition/online_lda.py:29: DeprecationWarning: `np.float` is a deprecated alias for the builtin `float`. To silence this warning, use `float` by itself. Doing this will not modify any behavior and is safe. If you specifically wanted the numpy scalar type, use `np.float64` here.\n",
      "Deprecated in NumPy 1.20; for more details and guidance: https://numpy.org/devdocs/release/1.20.0-notes.html#deprecations\n",
      "  EPS = np.finfo(np.float).eps\n"
     ]
    }
   ],
   "source": [
    "import os\n",
    "import numpy as np\n",
    "import pandas as pd\n",
    "from sklearn.model_selection import GridSearchCV\n",
    "from sklearn.neighbors import KNeighborsClassifier\n",
    "import matplotlib.pyplot as plt\n",
    "from sklearn.model_selection import cross_val_score\n",
    "from sklearn.preprocessing import StandardScaler\n",
    "from sklearn.neighbors import KNeighborsClassifier"
   ]
  },
  {
   "cell_type": "markdown",
   "id": "c56c8703",
   "metadata": {},
   "source": [
    "## Downloading and subsetting data"
   ]
  },
  {
   "cell_type": "code",
   "execution_count": 4,
   "id": "dbf00c27",
   "metadata": {},
   "outputs": [],
   "source": [
    "os.chdir(\"G:\\\\142A_Project\")\n",
    "song_attributes = pd.read_csv(\"song-attributes.txt\", delimiter=\"\\t\", header=None, encoding='ISO-8859-1')\n",
    "song_attributes.columns = ['song_id', 'artist_id', 'album_id', 'genre_id']\n",
    "\n",
    "genre_hierarchy = pd.read_csv(\"genre-hierarchy.txt\", delimiter=\"\\t\", encoding='ISO-8859-1', header=None)\n",
    "genre_hierarchy.columns = ['genre_id', 'parent_genre_id', 'level', 'genre_name']\n",
    "\n",
    "#### Load Train and test\n",
    "data_train_1 = pd.read_csv(\"train_0.txt\", delimiter=\"\\t\", encoding='ISO-8859-1', header=None)\n",
    "data_train_1.columns = ['user_id', 'song_id', 'rating']\n",
    "mergedTrain_1 = pd.merge(data_train_1, song_attributes, on=['song_id'], how='left')\n",
    "mergedTrain_3 = pd.merge(mergedTrain_1, genre_hierarchy, on=['genre_id'], how='left')\n",
    "\n",
    "data_test_1 = pd.read_csv(\"test_0.txt\", delimiter=\"\\t\", encoding='ISO-8859-1', header=None)\n",
    "data_test_1.columns = ['user_id', 'song_id', 'rating']\n",
    "mergedTest_1 = pd.merge(data_test_1, song_attributes, on=['song_id'], how='left')\n",
    "mergedTest_3 = pd.merge(mergedTest_1, genre_hierarchy, on=['genre_id'], how='left')\n",
    "\n",
    "mergedTrain_2 = mergedTrain_3\n",
    "mergedTest_2 = mergedTest_3\n",
    "\n",
    "# here we take the first r1 entries from our training data and then we randomly sample\n",
    "# n1 entries from the r1 entries. Due to the way our testing and training data was organized\n",
    "# it might be necessary to make this process more intuitive.\n",
    "#r1 = 1000000\n",
    "#mergedTrain_2 = mergedTrain_3.loc[1:r1]\n",
    "#n1 = 100000\n",
    "#mergedTrain_2 = mergedTrain_2.sample(n1)\n",
    "\n",
    "\n",
    "#r2 = 1000000\n",
    "#mergedTest_2 = mergedTest_3.loc[1:r2]\n",
    "#n2 = 100000\n",
    "#mergedTest_2 = mergedTest_2.sample(n1)\n",
    "\n",
    "n=100000\n",
    "mergedTrain_2 = mergedTrain_3.loc[1:n]\n",
    "mergedTest_2 = mergedTest_3.loc[1:2140]"
   ]
  },
  {
   "cell_type": "markdown",
   "id": "d37939f0",
   "metadata": {},
   "source": [
    "## Adding columns of mean individual artist ratings and user ratings\n",
    "Below we use groupby to create mean ratings for individual artists_ids, individual song_ids and individual user_ids. We then left merge them back into our data so each user id has a corresponding mean rating of each of these variables. We then remove all categorical or \"meaningless\" variables. By removing all categorical variables and replacing them with means we remove noise that meaningless numbers would give to our model. Genre and related metrics were too sparse of predictors to use so we did not include them in the model. "
   ]
  },
  {
   "cell_type": "code",
   "execution_count": 5,
   "id": "799e7bd9",
   "metadata": {},
   "outputs": [
    {
     "name": "stdout",
     "output_type": "stream",
     "text": [
      "['mean_user_rating' 'mean_artist_rating' 'mean_song_rating']\n",
      "['mean_user_rating' 'mean_artist_rating' 'mean_song_rating']\n"
     ]
    }
   ],
   "source": [
    "## train\n",
    "X_Train_1 = mergedTrain_2.drop(\n",
    "    labels=['genre_id', 'album_id', 'parent_genre_id', 'genre_name', 'level'],\n",
    "    axis=1)\n",
    "##Groupby().mean creates means for each individual entry we specify.\n",
    "# find mean rating for each user id\n",
    "X_Train_GroupUser = X_Train_1.groupby('user_id', as_index=False)['rating'].mean()\n",
    "X_Train_GroupUser.columns = ['user_id', 'mean_user_rating']\n",
    "X_Train_1 = pd.merge(X_Train_1, X_Train_GroupUser, on=['user_id'], how='left')\n",
    "#find mean rating for each artist id\n",
    "X_Train_GroupArtist = X_Train_1.groupby('artist_id', as_index=False)['rating'].mean()\n",
    "X_Train_GroupArtist.columns = ['artist_id', 'mean_artist_rating']\n",
    "X_Train_1 = pd.merge(X_Train_1, X_Train_GroupArtist, on=['artist_id'], how='left')\n",
    "#find mean rating for each song id\n",
    "X_Train_GroupSong = X_Train_1.groupby('song_id', as_index=False)['rating'].mean()\n",
    "X_Train_GroupSong.columns = ['song_id', 'mean_song_rating']\n",
    "X_Train_1 = pd.merge(X_Train_1, X_Train_GroupSong, on=['song_id'], how='left')\n",
    "#drop all categorical variables as they are numbers with no mathematical meaning, \n",
    "#we also drop rating from X since it is our dependent variable\n",
    "X_Train_1 = X_Train_1.drop(labels=['user_id','song_id','rating','artist_id'], axis=1)\n",
    "X_Train_1_df = X_Train_1\n",
    "print(X_Train_1.columns.values)\n",
    "Y_Train_1 = mergedTrain_2.drop(mergedTrain_2.columns.difference(['rating']), axis=1)\n",
    "X_Train_1 = np.asarray(X_Train_1)\n",
    "Y_Train_1 = np.asarray(Y_Train_1).reshape(-1, 1)\n",
    "\n",
    "\n",
    "\n",
    "\n",
    "## test, we do the same process as above for our training \n",
    "X_Test_1 = mergedTest_2.drop(\n",
    "    labels=[ 'genre_id', 'album_id', 'parent_genre_id', 'genre_name', 'level'],\n",
    "    axis=1)\n",
    "X_Test_GroupUser = X_Test_1.groupby('user_id', as_index=False)['rating'].mean()\n",
    "X_Test_GroupUser.columns = ['user_id', 'mean_user_rating']\n",
    "X_Test_1 = pd.merge(X_Test_1, X_Test_GroupUser, on=['user_id'], how='left')\n",
    "\n",
    "X_Test_GroupArtist = X_Test_1.groupby('artist_id', as_index=False)['rating'].mean()\n",
    "X_Test_GroupArtist.columns = ['artist_id', 'mean_artist_rating']\n",
    "X_Test_1 = pd.merge(X_Test_1, X_Test_GroupArtist, on=['artist_id'], how='left')\n",
    "\n",
    "X_Test_GroupSong = X_Test_1.groupby('song_id', as_index=False)['rating'].mean()\n",
    "X_Test_GroupSong.columns = ['song_id', 'mean_song_rating']\n",
    "X_Test_1 = pd.merge(X_Test_1, X_Test_GroupSong, on=['song_id'], how='left')\n",
    "\n",
    "X_Test_1 = X_Test_1.drop(labels=['user_id','song_id','rating','artist_id'], axis=1)\n",
    "X_Test_1_df = X_Test_1\n",
    "print(X_Test_1.columns.values)\n",
    "\n",
    "Y_Test_1 = mergedTest_2.drop(mergedTest_2.columns.difference(['rating']), axis=1)\n",
    "X_Test_1 = np.asarray(X_Test_1)\n",
    "Y_Test_1 = np.asarray(Y_Test_1).reshape(-1, 1)\n",
    "\n",
    "\n",
    "## standardizing data\n",
    "Y_Train_1 = Y_Train_1.ravel()\n",
    "Y_Test_1 = Y_Test_1.ravel()\n",
    "\n",
    "\n",
    "\n",
    "scaler = StandardScaler()\n",
    "scaler.fit(X_Train_1)\n",
    "\n",
    "X_Train_1 = scaler.transform(X_Train_1)\n",
    "X_Test_1 = scaler.transform(X_Test_1)"
   ]
  },
  {
   "cell_type": "markdown",
   "id": "9f49239b",
   "metadata": {},
   "source": [
    "## Plotting accuracy for K for uniform and distance individually\n",
    "We now will plot the cross validated scores we get for each value of k. We will do this for both uniform and distance weight parameters. This is done to check if the optimized parameters we will get from the grid search make sense or if we need to expand our range of k values. If we see the graph is hitting maximum and further k values do not increase accuracy we do not need to expand our range of k values to test. However, if the maximum is not reached we will need to expand our range of k values until we reach a k value that creates a maximum accuracy. "
   ]
  },
  {
   "cell_type": "code",
   "execution_count": 16,
   "id": "52a03401",
   "metadata": {},
   "outputs": [
    {
     "name": "stdout",
     "output_type": "stream",
     "text": [
      "[0.54931, 0.55838, 0.56447, 0.56816, 0.56989, 0.5719400000000001, 0.5733699999999999, 0.5746200000000001, 0.5751999999999999, 0.5757399999999999, 0.5765499999999999, 0.5773500000000001, 0.5779499999999999, 0.57857, 0.5795399999999999, 0.5805100000000001, 0.5805800000000001, 0.5811499999999999, 0.58156, 0.5817899999999999, 0.58185, 0.58189, 0.58195, 0.5822700000000001, 0.5822799999999999, 0.5827899999999999, 0.58293, 0.5831200000000001, 0.58311, 0.58296, 0.5831799999999999, 0.58373, 0.58359, 0.5837399999999999, 0.58409]\n"
     ]
    },
    {
     "data": {
      "text/plain": [
       "Text(0.5, 1.0, 'Fig 1')"
      ]
     },
     "execution_count": 16,
     "metadata": {},
     "output_type": "execute_result"
    },
    {
     "data": {
      "image/png": "[encoded data removed]",
      "text/plain": [
       "<Figure size 432x288 with 1 Axes>"
      ]
     },
     "metadata": {
      "needs_background": "light"
     },
     "output_type": "display_data"
    }
   ],
   "source": [
    "knn = KNeighborsClassifier()\n",
    "#k_range = range(1, 100)\n",
    "k_range = list(range(9, 359,10))\n",
    "# list of scores from k_range\n",
    "k_scores = []\n",
    "\n",
    "# 1. we will loop through reasonable values of k\n",
    "for k in k_range:\n",
    "    # 2. run KNeighborsClassifier with k neighbours\n",
    "    knn = KNeighborsClassifier(n_neighbors=k,weights='distance')\n",
    "    # 3. obtain cross_val_score for KNeighborsClassifier with k neighbours\n",
    "    scores = cross_val_score(knn, X_Train_1, Y_Train_1, cv=10, scoring='accuracy')\n",
    "    # 4. append mean of scores for k neighbors to k_scores list\n",
    "    k_scores.append(scores.mean())\n",
    "print(k_scores)\n",
    "\n",
    "# plot the value of K for KNN (x-axis) versus the cross-validated accuracy (y-axis)\n",
    "plt.plot(k_range, k_scores)\n",
    "plt.xlabel('Value of K for KNN, weights = distance ')\n",
    "plt.ylabel('Cross-Validated Accuracy')\n",
    "plt.title(\"Fig 1\")"
   ]
  },
  {
   "cell_type": "code",
   "execution_count": 17,
   "id": "a001c289",
   "metadata": {},
   "outputs": [
    {
     "name": "stdout",
     "output_type": "stream",
     "text": [
      "[0.56836, 0.5858899999999999, 0.5952300000000001, 0.59962, 0.60211, 0.6042, 0.6068800000000001, 0.60774, 0.60865, 0.61023, 0.61123, 0.61216, 0.61249, 0.61295, 0.61331, 0.61444, 0.6144900000000001, 0.61453, 0.6146900000000001, 0.61487, 0.61497, 0.6153899999999999, 0.61468, 0.61469, 0.61521, 0.61528, 0.61498, 0.6152700000000001, 0.61607, 0.61636, 0.61706, 0.6171900000000001, 0.61764, 0.61771, 0.6182599999999999]\n"
     ]
    },
    {
     "data": {
      "text/plain": [
       "Text(0.5, 1.0, 'Fig 2')"
      ]
     },
     "execution_count": 17,
     "metadata": {},
     "output_type": "execute_result"
    },
    {
     "data": {
      "image/png": "[encoded data removed]",
      "text/plain": [
       "<Figure size 432x288 with 1 Axes>"
      ]
     },
     "metadata": {
      "needs_background": "light"
     },
     "output_type": "display_data"
    }
   ],
   "source": [
    "knn = KNeighborsClassifier()\n",
    "#k_range = range(1, 100)\n",
    "k_range = list(range(9, 359,10))\n",
    "# list of scores from k_range\n",
    "k_scores = []\n",
    "\n",
    "# 1. we will loop through reasonable values of k\n",
    "for k in k_range:\n",
    "    # 2. run KNeighborsClassifier with k neighbours\n",
    "    knn = KNeighborsClassifier(n_neighbors=k,weights='uniform')\n",
    "    # 3. obtain cross_val_score for KNeighborsClassifier with k neighbours\n",
    "    scores = cross_val_score(knn, X_Train_1, Y_Train_1, cv=10, scoring='accuracy')\n",
    "    # 4. append mean of scores for k neighbors to k_scores list\n",
    "    k_scores.append(scores.mean())\n",
    "print(k_scores)\n",
    "\n",
    "# plot the value of K for KNN (x-axis) versus the cross-validated accuracy (y-axis)\n",
    "plt.plot(k_range, k_scores)\n",
    "plt.xlabel('Value of K for KNN, weights = distance ')\n",
    "plt.ylabel('Cross-Validated Accuracy')\n",
    "plt.title(\"Fig 2\")"
   ]
  },
  {
   "cell_type": "code",
   "execution_count": 18,
   "id": "75608069",
   "metadata": {},
   "outputs": [
    {
     "data": {
      "text/plain": [
       "Text(0.5, 1.0, 'Fig 3')"
      ]
     },
     "execution_count": 18,
     "metadata": {},
     "output_type": "execute_result"
    },
    {
     "data": {
      "image/png": "[encoded data removed]",
      "text/plain": [
       "<Figure size 432x288 with 1 Axes>"
      ]
     },
     "metadata": {
      "needs_background": "light"
     },
     "output_type": "display_data"
    }
   ],
   "source": [
    "from sklearn.metrics import mean_squared_error\n",
    "from sklearn.model_selection import cross_val_predict\n",
    "knn = KNeighborsClassifier()\n",
    "#k_range = range(1, 100)\n",
    "k_range = list(range(9, 359,10))\n",
    "# list of scores from k_range\n",
    "k_scores = []\n",
    "mse = []\n",
    "# 1. we will loop through reasonable values of k\n",
    "for k in k_range:\n",
    "    # 2. run KNeighborsClassifier with k neighbours\n",
    "    knn = KNeighborsClassifier(n_neighbors=k,weights='uniform',n_jobs=-1)\n",
    "    y_pred = cross_val_predict(knn, X_Train_1, Y_Train_1, cv=10)\n",
    "    # 3. obtain cross_val_score for KNeighborsClassifier with k neighbours\n",
    "    scores = cross_val_score(knn, X_Train_1, Y_Train_1, cv=10, scoring='accuracy')\n",
    "    # 4. append mean of scores for k neighbors to k_scores list\n",
    "    k_scores.append(scores.mean())\n",
    "    mse.append(mean_squared_error(Y_Train_1,y_pred))\n",
    "    \n",
    "\n",
    "#plot the value of K for KNN (x-axis) versus the cross-validated accuracy (y-axis)\n",
    "plt.plot(k_range, k_scores)\n",
    "plt.xlabel('Value of K for KNN, weights = Uniform')\n",
    "plt.ylabel('Cross-Validated Accuracy')\n",
    "plt.plot(k_range, mse)\n",
    "plt.xlabel('Value of K for KNN, weights = Uniform')\n",
    "plt.ylabel('Cross Validated MSE')\n",
    "plt.title(\"Fig 3\")"
   ]
  },
  {
   "cell_type": "code",
   "execution_count": 19,
   "id": "69e29ea3",
   "metadata": {
    "scrolled": true
   },
   "outputs": [
    {
     "data": {
      "text/plain": [
       "Text(0.5, 1.0, 'Fig 4')"
      ]
     },
     "execution_count": 19,
     "metadata": {},
     "output_type": "execute_result"
    },
    {
     "data": {
      "image/png": "[encoded data removed]",
      "text/plain": [
       "<Figure size 432x288 with 1 Axes>"
      ]
     },
     "metadata": {
      "needs_background": "light"
     },
     "output_type": "display_data"
    }
   ],
   "source": [
    "knn = KNeighborsClassifier()\n",
    "#k_range = range(1, 100)\n",
    "k_range = list(range(9, 359,10))\n",
    "# list of scores from k_range\n",
    "k_scores = []\n",
    "mse = []\n",
    "# 1. we will loop through reasonable values of k\n",
    "for k in k_range:\n",
    "    # 2. run KNeighborsClassifier with k neighbours\n",
    "    knn = KNeighborsClassifier(n_neighbors=k,weights='distance',n_jobs=-1)\n",
    "    y_pred = cross_val_predict(knn, X_Train_1, Y_Train_1, cv=10)\n",
    "    # 3. obtain cross_val_score for KNeighborsClassifier with k neighbours\n",
    "    scores = cross_val_score(knn, X_Train_1, Y_Train_1, cv=10, scoring='accuracy')\n",
    "    # 4. append mean of scores for k neighbors to k_scores list\n",
    "    k_scores.append(scores.mean())\n",
    "    mse.append(mean_squared_error(Y_Train_1,y_pred))\n",
    "    \n",
    "\n",
    "#plot the value of K for KNN (x-axis) versus the cross-validated accuracy (y-axis)\n",
    "plt.plot(k_range, k_scores)\n",
    "plt.xlabel('Value of K for KNN, weights = distance')\n",
    "plt.ylabel('Cross-Validated Accuracy')\n",
    "plt.plot(k_range, mse)\n",
    "plt.xlabel('Value of K for KNN, weights = distance')\n",
    "plt.ylabel('Cross Validated MSE')\n",
    "plt.title(\"Fig 4\")"
   ]
  },
  {
   "cell_type": "markdown",
   "id": "4a8d7146",
   "metadata": {},
   "source": [
    "## Finding best parameter combinations\n",
    "Fig 5"
   ]
  },
  {
   "cell_type": "code",
   "execution_count": 20,
   "id": "ef18680e",
   "metadata": {},
   "outputs": [
    {
     "name": "stdout",
     "output_type": "stream",
     "text": [
      "{'n_neighbors': [296, 297, 298, 299, 300, 301, 302, 303, 304, 305, 306, 307, 308, 309, 310, 311, 312, 313, 314, 315, 316, 317, 318, 319, 320, 321, 322, 323, 324, 325, 326, 327, 328, 329, 330, 331, 332, 333, 334, 335, 336, 337], 'weights': ['uniform', 'distance']}\n",
      "Fitting 10 folds for each of 84 candidates, totalling 840 fits\n",
      "{'n_neighbors': 337, 'weights': 'uniform'}\n",
      "0.6178899999999999\n"
     ]
    }
   ],
   "source": [
    "print(\"Fig 5\")\n",
    "knn = KNeighborsClassifier()\n",
    "\n",
    "k_range = list(range(296, 338))\n",
    "weight_options = ['uniform', 'distance']\n",
    "\n",
    "param_grid = dict(n_neighbors=k_range, weights=weight_options)\n",
    "print(param_grid)\n",
    "\n",
    "grid = GridSearchCV(knn, param_grid, cv=10, scoring='accuracy', return_train_score=False, verbose=1)\n",
    "\n",
    "grid_search = grid.fit(X_Train_1, Y_Train_1)\n",
    "print(grid_search.best_params_)\n",
    "print(grid_search.best_score_)"
   ]
  },
  {
   "cell_type": "markdown",
   "id": "ba175ade",
   "metadata": {},
   "source": [
    "## Testing the our chosen params on test data"
   ]
  },
  {
   "cell_type": "code",
   "execution_count": 21,
   "id": "5e950e49",
   "metadata": {
    "scrolled": true
   },
   "outputs": [
    {
     "name": "stdout",
     "output_type": "stream",
     "text": [
      "0.8495327102803738\n"
     ]
    }
   ],
   "source": [
    "print(\"Fig 6\")\n",
    "neigh = KNeighborsClassifier(n_neighbors=337,weights='uniform')\n",
    "neigh.fit(X_Train_1, Y_Train_1)\n",
    "print(neigh.score(X_Test_1, Y_Test_1, sample_weight=None))\n"
   ]
  },
  {
   "cell_type": "code",
   "execution_count": 37,
   "id": "c2c9ecd8",
   "metadata": {},
   "outputs": [
    {
     "name": "stdout",
     "output_type": "stream",
     "text": [
      "[0.54931, 0.55838, 0.56447, 0.56816, 0.56989, 0.5719400000000001, 0.5733699999999999, 0.5746200000000001, 0.5751999999999999, 0.5757399999999999, 0.5765499999999999, 0.5773500000000001, 0.5779499999999999, 0.57857, 0.5795399999999999, 0.5805100000000001, 0.5805800000000001, 0.5811499999999999, 0.58156, 0.5817899999999999, 0.58185, 0.58189, 0.58195, 0.5822700000000001, 0.5822799999999999, 0.5827899999999999, 0.58293, 0.5831200000000001, 0.58311, 0.58296, 0.5831799999999999, 0.58373, 0.58359, 0.5837399999999999, 0.58409]\n"
     ]
    },
    {
     "data": {
      "text/plain": [
       "Text(0.5, 1.0, 'Fig 8: Comparing training and testing errors using model fit from training')"
      ]
     },
     "execution_count": 37,
     "metadata": {},
     "output_type": "execute_result"
    },
    {
     "data": {
      "image/png": "[encoded data removed]",
      "text/plain": [
       "<Figure size 432x288 with 1 Axes>"
      ]
     },
     "metadata": {
      "needs_background": "light"
     },
     "output_type": "display_data"
    }
   ],
   "source": [
    "knn = KNeighborsClassifier()\n",
    "#k_range = range(1, 100)\n",
    "k_range = list(range(9, 359,20))\n",
    "# list of scores from k_range\n",
    "k_tr_scores = []\n",
    "k_ts_scores = []\n",
    "# 1. we will loop through reasonable values of k\n",
    "for k in k_range:\n",
    "    # 2. run KNeighborsClassifier with k neighbours\n",
    "    knn = KNeighborsClassifier(n_neighbors=k,weights='uniform')\n",
    "    knn.fit(X_Train_1, Y_Train_1)\n",
    "    tr_scores = cross_val_score(knn, X_Train_1, Y_Train_1, cv=10)\n",
    "    ts_scores = knn.score(X_Test_1, Y_Test_1, sample_weight=None)\n",
    "    # 4. append mean of scores for k neighbors to k_scores list\n",
    "    k_ts_scores.append(ts_scores.mean())\n",
    "    k_tr_scores.append(tr_scores.mean())\n",
    "print(k_scores)\n",
    "\n",
    "# plot the value of K for KNN (x-axis) versus the cross-validated accuracy (y-axis)\n",
    "plt.plot(k_range, k_tr_scores)\n",
    "plt.xlabel('Training set error, weights = Uniform')\n",
    "plt.ylabel('Cross-Validated Accuracy')\n",
    "plt.plot(k_range, k_ts_scores)\n",
    "plt.xlabel('Training set error, weights = Uniform')\n",
    "plt.ylabel('Cross-Validated Accuracy')\n",
    "plt.title(\"Fig 8: Comparing training and testing errors using model fit from training\")"
   ]
  }
 ],
 "metadata": {
  "kernelspec": {
   "display_name": "Python 3 (ipykernel)",
   "language": "python",
   "name": "python3"
  },
  "language_info": {
   "codemirror_mode": {
    "name": "ipython",
    "version": 3
   },
   "file_extension": ".py",
   "mimetype": "text/x-python",
   "name": "python",
   "nbconvert_exporter": "python",
   "pygments_lexer": "ipython3",
   "version": "3.8.8"
  }
 },
 "nbformat": 4,
 "nbformat_minor": 5
}
